{
 "cells": [
  {
   "cell_type": "markdown",
   "id": "e2968a6b",
   "metadata": {},
   "source": [
    "# Вступне завдання на знайомство з базовим синтаксисом Sage\n",
    "\n",
    "Вітаю на першому завданні з Sage! У цьому зошиті ви виконаєте кілька невеликих завдань, щоб ознайомитися з базовим синтаксисом SageMath. Заповніть свій код у вказаних місцях. Не хвилюйтеся, якщо щось не вдастся з першого разу — ми вчимося!"
   ]
  },
  {
   "cell_type": "markdown",
   "id": "16bb88b3",
   "metadata": {},
   "source": [
    "---\n",
    "## Прості арифметичні операції\n",
    "\n",
    "- Додайте 25 і 17.\n",
    "- Помножте 7 на 9.\n",
    "- Поділіть 144 на 12."
   ]
  },
  {
   "cell_type": "code",
   "execution_count": 1,
   "id": "82c3879d",
   "metadata": {},
   "outputs": [
    {
     "data": {
      "text/plain": [
       "42"
      ]
     },
     "execution_count": 1,
     "metadata": {},
     "output_type": "execute_result"
    }
   ],
   "source": [
    "25 + 17"
   ]
  },
  {
   "cell_type": "code",
   "execution_count": 2,
   "id": "4ab7c377",
   "metadata": {},
   "outputs": [
    {
     "data": {
      "text/plain": [
       "63"
      ]
     },
     "execution_count": 2,
     "metadata": {},
     "output_type": "execute_result"
    }
   ],
   "source": [
    "7 * 9\n"
   ]
  },
  {
   "cell_type": "code",
   "execution_count": 3,
   "id": "08ae7168",
   "metadata": {},
   "outputs": [
    {
     "data": {
      "text/plain": [
       "12"
      ]
     },
     "execution_count": 3,
     "metadata": {},
     "output_type": "execute_result"
    }
   ],
   "source": [
    "144 / 12\n"
   ]
  },
  {
   "cell_type": "markdown",
   "id": "e77d63d9",
   "metadata": {},
   "source": [
    "---\n",
    "## Цілочисельні операції\n",
    "\n",
    "- Знайдіть залишок від ділення 156 на 7 \n",
    "- Поділіть 156 націло на 7\n",
    "- Розкладіть число 2024 на множники"
   ]
  },
  {
   "cell_type": "code",
   "execution_count": 4,
   "id": "2f15aedc",
   "metadata": {},
   "outputs": [
    {
     "data": {
      "text/plain": [
       "2"
      ]
     },
     "execution_count": 4,
     "metadata": {},
     "output_type": "execute_result"
    }
   ],
   "source": [
    "Mod(156,7)\n"
   ]
  },
  {
   "cell_type": "code",
   "execution_count": 5,
   "id": "139a037d",
   "metadata": {},
   "outputs": [
    {
     "data": {
      "text/plain": [
       "22"
      ]
     },
     "execution_count": 5,
     "metadata": {},
     "output_type": "execute_result"
    }
   ],
   "source": [
    "156 // 7"
   ]
  },
  {
   "cell_type": "code",
   "execution_count": 6,
   "id": "c49d480c",
   "metadata": {},
   "outputs": [
    {
     "data": {
      "text/plain": [
       "2^3 * 11 * 23"
      ]
     },
     "execution_count": 6,
     "metadata": {},
     "output_type": "execute_result"
    }
   ],
   "source": [
    "factor(2024)"
   ]
  },
  {
   "cell_type": "markdown",
   "id": "00e6d090",
   "metadata": {},
   "source": [
    "---\n",
    "\n",
    "## Степені та корені\n",
    "- Обчисліть $ 5^3 $.\n",
    "- Знайдіть квадратний корінь з 49."
   ]
  },
  {
   "cell_type": "code",
   "execution_count": 7,
   "id": "79344055",
   "metadata": {},
   "outputs": [
    {
     "data": {
      "text/plain": [
       "125"
      ]
     },
     "execution_count": 7,
     "metadata": {},
     "output_type": "execute_result"
    }
   ],
   "source": [
    "pow(5, 3)"
   ]
  },
  {
   "cell_type": "code",
   "execution_count": 8,
   "id": "8cee8b7c",
   "metadata": {},
   "outputs": [
    {
     "data": {
      "text/plain": [
       "7"
      ]
     },
     "execution_count": 8,
     "metadata": {},
     "output_type": "execute_result"
    }
   ],
   "source": [
    "sqrt(49)"
   ]
  },
  {
   "cell_type": "markdown",
   "id": "9d63f06d",
   "metadata": {},
   "source": [
    "---\n",
    "\n",
    "## Стандартні функції\n",
    "\n",
    "Обчисліть як точно, так і наближено:\n",
    "- $\\cos 0$\n",
    "- $\\sin \\pi$\n",
    "- $\\exp(2)$\n",
    "- $\\tan \\frac\\pi4$\n",
    "- $\\arcsin 1$\n"
   ]
  },
  {
   "cell_type": "code",
   "execution_count": 9,
   "id": "de4fd035-52e2-46c3-95cb-f61a5a19b579",
   "metadata": {},
   "outputs": [
    {
     "data": {
      "text/plain": [
       "1"
      ]
     },
     "execution_count": 9,
     "metadata": {},
     "output_type": "execute_result"
    }
   ],
   "source": [
    "cos(0)"
   ]
  },
  {
   "cell_type": "code",
   "execution_count": 10,
   "id": "d6b3355a",
   "metadata": {},
   "outputs": [
    {
     "data": {
      "text/plain": [
       "0"
      ]
     },
     "execution_count": 10,
     "metadata": {},
     "output_type": "execute_result"
    }
   ],
   "source": [
    "sin(pi)"
   ]
  },
  {
   "cell_type": "code",
   "execution_count": 11,
   "id": "011ddc7b",
   "metadata": {},
   "outputs": [
    {
     "data": {
      "text/plain": [
       "e^2"
      ]
     },
     "execution_count": 11,
     "metadata": {},
     "output_type": "execute_result"
    }
   ],
   "source": [
    "exp(2)"
   ]
  },
  {
   "cell_type": "code",
   "execution_count": 12,
   "id": "29d9a793",
   "metadata": {},
   "outputs": [
    {
     "data": {
      "text/plain": [
       "1"
      ]
     },
     "execution_count": 12,
     "metadata": {},
     "output_type": "execute_result"
    }
   ],
   "source": [
    "tan(pi/4)"
   ]
  },
  {
   "cell_type": "code",
   "execution_count": 13,
   "id": "a02355d8",
   "metadata": {},
   "outputs": [
    {
     "data": {
      "text/plain": [
       "1/2*pi"
      ]
     },
     "execution_count": 13,
     "metadata": {},
     "output_type": "execute_result"
    }
   ],
   "source": [
    "arcsin(1)"
   ]
  },
  {
   "cell_type": "markdown",
   "id": "b2f30eb3-2258-4c15-8324-8944783be98b",
   "metadata": {},
   "source": [
    "---\n",
    "\n",
    "## Змінні\n",
    "Оголосіть змінні `x` та `y`, де `x = 10` та `y = 15`. Обчисліть їх суму та добуток."
   ]
  },
  {
   "cell_type": "code",
   "execution_count": 14,
   "id": "d707811d",
   "metadata": {},
   "outputs": [
    {
     "data": {
      "text/plain": [
       "25"
      ]
     },
     "execution_count": 14,
     "metadata": {},
     "output_type": "execute_result"
    }
   ],
   "source": [
    "x = 10\n",
    "y = 15\n",
    "s = x + y\n",
    "s"
   ]
  },
  {
   "cell_type": "code",
   "execution_count": 15,
   "id": "fbdae0a2",
   "metadata": {},
   "outputs": [
    {
     "data": {
      "text/plain": [
       "150"
      ]
     },
     "execution_count": 15,
     "metadata": {},
     "output_type": "execute_result"
    }
   ],
   "source": [
    "product = x * y\n",
    "product"
   ]
  },
  {
   "cell_type": "markdown",
   "id": "d80be4cd",
   "metadata": {},
   "source": [
    "---\n",
    "\n",
    "## Символьні вирази\n",
    "Оголосіть символьну змінну `z` та обчисліть вираз $ 3z^2 + 2z - 5 $."
   ]
  },
  {
   "cell_type": "code",
   "execution_count": 16,
   "id": "bb40f4a8",
   "metadata": {},
   "outputs": [
    {
     "data": {
      "text/plain": [
       "51"
      ]
     },
     "execution_count": 16,
     "metadata": {},
     "output_type": "execute_result"
    }
   ],
   "source": [
    "z = 4\n",
    "res = 3*pow(z,2) + 2*z - 5\n",
    "res"
   ]
  },
  {
   "cell_type": "markdown",
   "id": "2d48e3c5",
   "metadata": {},
   "source": [
    "---\n",
    "\n",
    "## Спрощення виразів\n",
    "\n",
    "Спростіть вираз: $ 2x^2 + 4x - 2x^2 + x $."
   ]
  },
  {
   "cell_type": "code",
   "execution_count": 17,
   "id": "1f125031",
   "metadata": {},
   "outputs": [
    {
     "data": {
      "text/plain": [
       "5*x"
      ]
     },
     "execution_count": 17,
     "metadata": {},
     "output_type": "execute_result"
    }
   ],
   "source": [
    "x = var(\"x\")\n",
    "simplify(2*pow(x,2) + 4*x - 2*pow(x, 2) + x)"
   ]
  },
  {
   "cell_type": "markdown",
   "id": "04dede92",
   "metadata": {},
   "source": [
    "---\n",
    "\n",
    "## Розкриття дужок\n",
    "\n",
    "Розкрийте дужки для виразу $ (x + 2)(x - 3) $."
   ]
  },
  {
   "cell_type": "code",
   "execution_count": 18,
   "id": "5897fb78",
   "metadata": {},
   "outputs": [
    {
     "data": {
      "text/plain": [
       "x^2 - x - 6"
      ]
     },
     "execution_count": 18,
     "metadata": {},
     "output_type": "execute_result"
    }
   ],
   "source": [
    "expand((x + 2)*(x - 3))"
   ]
  },
  {
   "cell_type": "markdown",
   "id": "2a39fa06",
   "metadata": {},
   "source": [
    "---\n",
    "\n",
    "## Факторизація\n",
    "Розкладіть на найпростіші множники квадратний тричлен $ x^2 - 9x + 20 $."
   ]
  },
  {
   "cell_type": "code",
   "execution_count": 19,
   "id": "f720ef67",
   "metadata": {},
   "outputs": [
    {
     "data": {
      "text/plain": [
       "(x - 4)*(x - 5)"
      ]
     },
     "execution_count": 19,
     "metadata": {},
     "output_type": "execute_result"
    }
   ],
   "source": [
    "factor(pow(x, 2) - 9*x + 20)"
   ]
  },
  {
   "cell_type": "markdown",
   "id": "5e80e95e",
   "metadata": {},
   "source": [
    "---\n",
    "\n",
    "## Розв'язування рівнянь\n",
    "Розв'яжіть рівняння $ x^2 - 4x + 3 = 0 $."
   ]
  },
  {
   "cell_type": "code",
   "execution_count": 20,
   "id": "6ba9ca06",
   "metadata": {},
   "outputs": [
    {
     "data": {
      "text/plain": [
       "[x == 3, x == 1]"
      ]
     },
     "execution_count": 20,
     "metadata": {},
     "output_type": "execute_result"
    }
   ],
   "source": [
    "eq = x^2 - 4*x + 3 == 0\n",
    "solve(eq, x)"
   ]
  },
  {
   "cell_type": "markdown",
   "id": "d81e6b69",
   "metadata": {},
   "source": [
    "---\n",
    "\n",
    "## Графік функції\n",
    "Побудуйте графік функції $ f(x) = x^2 - 4x + 3 $ у діапазоні $ x = [-5, 5] $."
   ]
  },
  {
   "cell_type": "code",
   "execution_count": 21,
   "id": "c8c388b5",
   "metadata": {},
   "outputs": [
    {
     "data": {
      "image/png": "[encoded data removed]",
      "text/plain": [
       "Graphics object consisting of 1 graphics primitive"
      ]
     },
     "execution_count": 21,
     "metadata": {},
     "output_type": "execute_result"
    }
   ],
   "source": [
    "f = pow(x, 2) - 4*x + 3\n",
    "plot(f, (x, -5, 5))"
   ]
  },
  {
   "cell_type": "markdown",
   "id": "bfe6ff9e",
   "metadata": {},
   "source": [
    "---\n",
    "\n",
    "## Похідна\n",
    "Знайдіть похідну функції $ f(x) = x^3 + 5x^2 - 2x + 7 $."
   ]
  },
  {
   "cell_type": "code",
   "execution_count": 22,
   "id": "19f405aa",
   "metadata": {},
   "outputs": [
    {
     "data": {
      "text/plain": [
       "3*x^2 + 10*x - 2"
      ]
     },
     "execution_count": 22,
     "metadata": {},
     "output_type": "execute_result"
    }
   ],
   "source": [
    "f = pow(x, 3) + 5*pow(x, 2) - 2*x + 7\n",
    "diff(f, x)"
   ]
  },
  {
   "cell_type": "markdown",
   "id": "f3c97713",
   "metadata": {},
   "source": [
    "---\n",
    "\n",
    "## Первісна\n",
    "Знайдіть невизначений інтеграл від функції $ f(x) = 2x^3 - x^2 + 5 $."
   ]
  },
  {
   "cell_type": "code",
   "execution_count": 23,
   "id": "fbacc613",
   "metadata": {},
   "outputs": [
    {
     "data": {
      "text/plain": [
       "1/2*x^4 - 1/3*x^3 + 5*x"
      ]
     },
     "execution_count": 23,
     "metadata": {},
     "output_type": "execute_result"
    }
   ],
   "source": [
    "f = 2*pow(x, 3) - pow(x, 2) + 5\n",
    "integral(f, x)"
   ]
  },
  {
   "cell_type": "markdown",
   "id": "93dad69b",
   "metadata": {},
   "source": [
    "---\n",
    "\n",
    "## Визначений інтеграл\n",
    "Проінтегруйте функцію $ f(x) = x^2 $ від $ x = 1 $ до $ x = 4 $."
   ]
  },
  {
   "cell_type": "code",
   "execution_count": 24,
   "id": "97af5af9",
   "metadata": {},
   "outputs": [
    {
     "data": {
      "text/plain": [
       "21"
      ]
     },
     "execution_count": 24,
     "metadata": {},
     "output_type": "execute_result"
    }
   ],
   "source": [
    "f = pow(x, 2)\n",
    "integral(f, (x, 1, 4))"
   ]
  },
  {
   "cell_type": "markdown",
   "id": "9750aabe",
   "metadata": {},
   "source": [
    "---\n",
    "\n",
    "## Матриці\n",
    "Створіть матрицю розміру $2\\times 2$ з елементами: 1, 2, 3, 4. Виведіть матрицю на екран."
   ]
  },
  {
   "cell_type": "code",
   "execution_count": 25,
   "id": "d8e0c9f0",
   "metadata": {},
   "outputs": [
    {
     "data": {
      "text/html": [
       "<html>\\(\\displaystyle \\left(\\begin{array}{rr}\n",
       "1 & 2 \\\\\n",
       "3 & 4\n",
       "\\end{array}\\right)\\)</html>"
      ],
      "text/latex": [
       "$\\displaystyle \\left(\\begin{array}{rr}\n",
       "1 & 2 \\\\\n",
       "3 & 4\n",
       "\\end{array}\\right)$"
      ],
      "text/plain": [
       "[1 2]\n",
       "[3 4]"
      ]
     },
     "metadata": {},
     "output_type": "display_data"
    }
   ],
   "source": [
    "A = Matrix([[1, 2],\n",
    "           [3, 4]])\n",
    "show(A)"
   ]
  },
  {
   "cell_type": "markdown",
   "id": "45a03451",
   "metadata": {},
   "source": [
    "---\n",
    "\n",
    "## Операції з матрицями\n",
    "Для матриці $ A = \\begin{bmatrix} 1 & 2 \\\\ 3 & 4 \\end{bmatrix} $ обчисліть:\n",
    "- Транспоновану матрицю `A`.\n",
    "- Визначник матриці `A`."
   ]
  },
  {
   "cell_type": "code",
   "execution_count": 26,
   "id": "07151b1f",
   "metadata": {},
   "outputs": [
    {
     "data": {
      "text/html": [
       "<html>\\(\\displaystyle \\left(\\begin{array}{rr}\n",
       "1 & 3 \\\\\n",
       "2 & 4\n",
       "\\end{array}\\right)\\)</html>"
      ],
      "text/latex": [
       "$\\displaystyle \\left(\\begin{array}{rr}\n",
       "1 & 3 \\\\\n",
       "2 & 4\n",
       "\\end{array}\\right)$"
      ],
      "text/plain": [
       "[1 3]\n",
       "[2 4]"
      ]
     },
     "metadata": {},
     "output_type": "display_data"
    }
   ],
   "source": [
    "show(A.transpose())"
   ]
  },
  {
   "cell_type": "code",
   "execution_count": 27,
   "id": "19942eeb-6119-4e47-965a-d69ad0baa5bc",
   "metadata": {},
   "outputs": [
    {
     "data": {
      "text/plain": [
       "-2"
      ]
     },
     "execution_count": 27,
     "metadata": {},
     "output_type": "execute_result"
    }
   ],
   "source": [
    "A.det()"
   ]
  },
  {
   "cell_type": "markdown",
   "id": "b42edc4e",
   "metadata": {},
   "source": [
    "---\n",
    "\n",
    "## Власні значення\n",
    "Знайдіть власні значення матриці $ A = \\begin{bmatrix} 1 & 2 \\\\ 2 & 3 \\end{bmatrix} $."
   ]
  },
  {
   "cell_type": "code",
   "execution_count": 28,
   "id": "06cc7e71",
   "metadata": {},
   "outputs": [
    {
     "data": {
      "text/plain": [
       "[-0.2360679774997897?, 4.236067977499789?]"
      ]
     },
     "execution_count": 28,
     "metadata": {},
     "output_type": "execute_result"
    }
   ],
   "source": [
    "B = Matrix([[1, 2],\n",
    "           [2, 3]])\n",
    "B.eigenvalues()"
   ]
  },
  {
   "cell_type": "markdown",
   "id": "3b38c48b",
   "metadata": {},
   "source": [
    "---\n",
    "\n",
    "## Системи рівнянь\n",
    "Розв'яжіть систему рівнянь:\n",
    "\\begin{align*}\n",
    "x + y &= 3 \\\\\n",
    "2x - y &= 0\n",
    "\\end{align*}"
   ]
  },
  {
   "cell_type": "code",
   "execution_count": 29,
   "id": "eeb2a9a8",
   "metadata": {},
   "outputs": [
    {
     "data": {
      "text/plain": [
       "[[x == 1, y == 2]]"
      ]
     },
     "execution_count": 29,
     "metadata": {},
     "output_type": "execute_result"
    }
   ],
   "source": [
    "x, y = var(\"x\", \"y\")\n",
    "eq1 = x + y == 3\n",
    "eq2 = 2*x - y == 0\n",
    "solve([eq1, eq2], x, y)"
   ]
  },
  {
   "cell_type": "markdown",
   "id": "a43d2b7f",
   "metadata": {},
   "source": [
    "---\n",
    "\n",
    "## Умовні оператори\n",
    "\n",
    "Напишіть умовний оператор, який перевіряє, чи є число `n` додатним, від'ємним або рівним нулю."
   ]
  },
  {
   "cell_type": "code",
   "execution_count": 30,
   "id": "e90ef4f6",
   "metadata": {},
   "outputs": [
    {
     "name": "stdout",
     "output_type": "stream",
     "text": [
      "n = -654\n",
      "Число від'ємне\n"
     ]
    }
   ],
   "source": [
    "n = int(input(\"n = \"))\n",
    "if n > 0:\n",
    "    print(\"Число додатнє\")\n",
    "elif n < 0:\n",
    "    print(\"Число від'ємне\")\n",
    "else:\n",
    "    print(\"Число == 0\")"
   ]
  },
  {
   "cell_type": "markdown",
   "id": "4d8fdfe0",
   "metadata": {},
   "source": [
    "---\n",
    "\n",
    "## Цикли\n",
    "Напишіть цикл, який виводить числа від 1 до 10."
   ]
  },
  {
   "cell_type": "code",
   "execution_count": 31,
   "id": "c7b5607d",
   "metadata": {},
   "outputs": [
    {
     "name": "stdout",
     "output_type": "stream",
     "text": [
      "1\n",
      "2\n",
      "3\n",
      "4\n",
      "5\n",
      "6\n",
      "7\n",
      "8\n",
      "9\n",
      "10\n"
     ]
    }
   ],
   "source": [
    "for i in range(1, 11):\n",
    "    print(i)"
   ]
  },
  {
   "cell_type": "markdown",
   "id": "62c726e7",
   "metadata": {},
   "source": [
    "---\n",
    "\n",
    "## Оголошення функцій\n",
    "Оголосіть функцію `f(x)`, яка повертає $ 3x^2 - 2x + 1 $. Потім обчисліть `f(5)`."
   ]
  },
  {
   "cell_type": "code",
   "execution_count": 32,
   "id": "bf319cff",
   "metadata": {},
   "outputs": [
    {
     "data": {
      "text/plain": [
       "66"
      ]
     },
     "execution_count": 32,
     "metadata": {},
     "output_type": "execute_result"
    }
   ],
   "source": [
    "def f(x):\n",
    "    return 3*pow(x, 2) - 2*x + 1\n",
    "f(5)"
   ]
  },
  {
   "cell_type": "markdown",
   "id": "955c86cd",
   "metadata": {},
   "source": [
    "---\n",
    "\n",
    "## Графіки декількох функцій\n",
    "Побудуйте графіки $ f(x) = x^2 $ та $ g(x) = -x^2 + 5 $ на одній площині у діапазоні $ x = [-3, 3] $."
   ]
  },
  {
   "cell_type": "code",
   "execution_count": 33,
   "id": "cdf31d02",
   "metadata": {},
   "outputs": [
    {
     "data": {
      "image/png": "[encoded data removed]",
      "text/plain": [
       "Graphics object consisting of 2 graphics primitives"
      ]
     },
     "execution_count": 33,
     "metadata": {},
     "output_type": "execute_result"
    }
   ],
   "source": [
    "f = pow(x, 2)\n",
    "g = - pow(x, 2) + 5\n",
    "plot_f = plot(f , x, (-3, 3), color=\"red\", legend_label=\"x^2\")\n",
    "plot_g = plot(g , x , (-3, 3), color=\"green\", legend_label=\" -x^2 + 5\")\n",
    "plot_fg = plot_f + plot_g\n",
    "plot_fg"
   ]
  }
 ],
 "metadata": {
  "kernelspec": {
   "display_name": "SageMath 10.0",
   "language": "sage",
   "name": "sagemath"
  },
  "language_info": {
   "codemirror_mode": {
    "name": "ipython",
    "version": 3
   },
   "file_extension": ".py",
   "mimetype": "text/x-python",
   "name": "python",
   "nbconvert_exporter": "python",
   "pygments_lexer": "ipython3",
   "version": "3.11.9"
  }
 },
 "nbformat": 4,
 "nbformat_minor": 5
}
