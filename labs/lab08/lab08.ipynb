{
 "cells": [
  {
   "cell_type": "markdown",
   "id": "035b4c26",
   "metadata": {},
   "source": [
    "# Лабораторна робота 8\n",
    "\n",
    "__Знайдіть к-ть різних розфарбувань кубика Рубика 2х2х2, використовуючи 10 кольорів.__\n",
    "\n",
    "\n",
    "![rubik_cube](https://raw.githubusercontent.com/davendiy/sage-labs2024/96b42f445dfba70bbb604f6f81f079be6864ba52/docs/labs_assets/rubik_cube.jpg)\n",
    "\n",
    "Два розфарбування називатимуться однаковими, якщо існує послідовність рухів кубика рубика, яка одне розфарбування переводить в інше. \n",
    "\n",
    "Не обовʼязково використовувати всі 10 кольорів, тобто допустимо пофарбувати весь кубик в один колір. \n",
    "\n",
    "___Приклад___: існує 183 різних розфарбувань, використовуючи 2 кольори. "
   ]
  },
  {
   "cell_type": "code",
   "execution_count": 1,
   "id": "5d04a86d",
   "metadata": {},
   "outputs": [
    {
     "data": {
      "text/plain": [
       "88179840"
      ]
     },
     "execution_count": 1,
     "metadata": {},
     "output_type": "execute_result"
    }
   ],
   "source": [
    "G = SymmetricGroup(24)\n",
    "g1 = G('(1, 2, 4, 3)(5, 24, 9, 7)(6, 23, 10, 8)');\n",
    "g2 = G('(11, 1, 10, 20)(5,2, 16, 19)(21, 23, 24, 22)');\n",
    "g3 = G('(6, 4, 15, 17)(12, 3, 9, 18)(7, 8, 14, 13)');\n",
    "g4 = G('(2, 8, 18, 22)(4, 14, 20, 24)(10, 9, 15, 16)');\n",
    "g5 = G('(1, 7, 17, 21)(3, 13, 19, 23)(5, 6, 12, 11)');\n",
    "g6 = G('(16, 14, 12, 21)(15, 13, 11, 22)(20, 18, 17, 19)');\n",
    "H = G.subgroup([g1, g2, g3, g4, g5, g6])\n",
    "H.order()"
   ]
  },
  {
   "cell_type": "code",
   "execution_count": 2,
   "id": "f3b640bc",
   "metadata": {},
   "outputs": [
    {
     "name": "stdout",
     "output_type": "stream",
     "text": [
      "12395526079546335\n"
     ]
    }
   ],
   "source": [
    "colors = 10\n",
    "summ = 0\n",
    "for i in H:\n",
    "    c = i.cycle_type()\n",
    "    summ += colors^len(c)\n",
    "# Лема Бернсайда\n",
    "res = summ / H.order()\n",
    "print(res)"
   ]
  }
 ],
 "metadata": {
  "kernelspec": {
   "display_name": "SageMath 10.0",
   "language": "sage",
   "name": "sagemath"
  },
  "language_info": {
   "codemirror_mode": {
    "name": "ipython",
    "version": 3
   },
   "file_extension": ".py",
   "mimetype": "text/x-python",
   "name": "python",
   "nbconvert_exporter": "python",
   "pygments_lexer": "ipython3",
   "version": "3.11.9"
  }
 },
 "nbformat": 4,
 "nbformat_minor": 5
}
