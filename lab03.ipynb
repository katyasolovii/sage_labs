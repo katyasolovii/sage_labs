{
 "cells": [
  {
   "cell_type": "markdown",
   "id": "3df600f8",
   "metadata": {},
   "source": [
    "# Лабораторна робота 3. Групи, порядок елемента в групі\n",
    "\n",
    "_Примітка_: наведений код є лише одним з можливих шаблонів виконання. Можете писати по-своєму, але розділяйте свій код на функції, щоб їх можна було простіше перевіряти.\n",
    "\n",
    "## Завдання 1. \n",
    "\n",
    "__Задайте групи $D_{10}$, $Z_{16}$, $A_5$, $SL(2, \\mathbb{Z}_3)$*. Для кожної з них виведіть таблицю Келі, знайдіть порядок групи, перевірте чи група абелева. Перевірте чи будуть ізоморфними групи $SL(2, Z_3)$ та $D_3$.__\n",
    "\n",
    "*: група матриць 2х2 з визначником 1 над полем $\\mathbb{Z}_3$"
   ]
  },
  {
   "cell_type": "code",
   "execution_count": 1,
   "id": "45fa8259",
   "metadata": {},
   "outputs": [],
   "source": [
    "from itertools import permutations\n",
    "from sage.matrix.operation_table import OperationTable"
   ]
  },
  {
   "cell_type": "code",
   "execution_count": 2,
   "id": "a5e58c17",
   "metadata": {},
   "outputs": [
    {
     "name": "stdout",
     "output_type": "stream",
     "text": [
      "Група поворотів правильного 10-кутника (діеральна група) \n",
      "\n",
      "*  a b c d e f g h i j k l m n o p q r s t\n",
      " +----------------------------------------\n",
      "a| a b c d e f g h i j k l m n o p q r s t\n",
      "b| b a d c f e h g j i l k n m p o r q t s\n",
      "c| c s a e d g f i h k j m l o n q p t b r\n",
      "d| d t b f c h e j g l i n k p m r o s a q\n",
      "e| e r s g a i d k f m h o j q l t n b c p\n",
      "f| f q t h b j c l e n g p i r k s m a d o\n",
      "g| g p r i s k a m d o f q h t j b l c e n\n",
      "h| h o q j t l b n c p e r g s i a k d f m\n",
      "i| i n p k r m s o a q d t f b h c j e g l\n",
      "j| j m o l q n t p b r c s e a g d i f h k\n",
      "k| k l n m p o r q s t a b d c f e h g i j\n",
      "l| l k m n o p q r t s b a c d e f g h j i\n",
      "m| m j l o n q p t r b s c a e d g f i k h\n",
      "n| n i k p m r o s q a t d b f c h e j l g\n",
      "o| o h j q l t n b p c r e s g a i d k m f\n",
      "p| p g i r k s m a o d q f t h b j c l n e\n",
      "q| q f h t j b l c n e p g r i s k a m o d\n",
      "r| r e g s i a k d m f o h q j t l b n p c\n",
      "s| s c e a g d i f k h m j o l q n t p r b\n",
      "t| t d f b h c j e l g n i p k r m s o q a\n",
      "\n",
      "Порядок групи: 20\n",
      "Група не абелева\n"
     ]
    }
   ],
   "source": [
    "print(\"Група поворотів правильного 10-кутника (діеральна група) \\n\")\n",
    "\n",
    "G = DihedralGroup(10)  \n",
    "table_G = OperationTable(G, operator.mul)\n",
    "ord_gr_G = G.cardinality()\n",
    "abelian_G = G.is_abelian()\n",
    "\n",
    "print(table_G)\n",
    "print(\"Порядок групи:\", ord_gr_G)\n",
    "if abelian_G:\n",
    "    print(\"Група абелева\")\n",
    "else:\n",
    "    print(\"Група не абелева\")"
   ]
  },
  {
   "cell_type": "code",
   "execution_count": 3,
   "id": "9e71c9d6",
   "metadata": {},
   "outputs": [
    {
     "name": "stdout",
     "output_type": "stream",
     "text": [
      "Група лишків за модулем 16 \n",
      "\n",
      "*  a b c d e f g h i j k l m n o p\n",
      " +--------------------------------\n",
      "a| a b c d e f g h i j k l m n o p\n",
      "b| b c d e f g h i j k l m n o p a\n",
      "c| c d e f g h i j k l m n o p a b\n",
      "d| d e f g h i j k l m n o p a b c\n",
      "e| e f g h i j k l m n o p a b c d\n",
      "f| f g h i j k l m n o p a b c d e\n",
      "g| g h i j k l m n o p a b c d e f\n",
      "h| h i j k l m n o p a b c d e f g\n",
      "i| i j k l m n o p a b c d e f g h\n",
      "j| j k l m n o p a b c d e f g h i\n",
      "k| k l m n o p a b c d e f g h i j\n",
      "l| l m n o p a b c d e f g h i j k\n",
      "m| m n o p a b c d e f g h i j k l\n",
      "n| n o p a b c d e f g h i j k l m\n",
      "o| o p a b c d e f g h i j k l m n\n",
      "p| p a b c d e f g h i j k l m n o\n",
      "\n",
      "Порядок групи: 16\n",
      "Група абелева\n"
     ]
    }
   ],
   "source": [
    "print(\"Група лишків за модулем 16 \\n\")\n",
    "\n",
    "Z = CyclicPermutationGroup(16)\n",
    "table_Z = OperationTable(Z, operator.mul)\n",
    "ord_gr_Z = Z.cardinality()\n",
    "abelian_Z = Z.is_abelian()\n",
    "print(table_Z)\n",
    "\n",
    "print(\"Порядок групи:\", ord_gr_Z)\n",
    "if abelian_Z:\n",
    "    print(\"Група абелева\")\n",
    "else:\n",
    "    print(\"Група не абелева\")"
   ]
  },
  {
   "cell_type": "code",
   "execution_count": 4,
   "id": "0f206294",
   "metadata": {},
   "outputs": [
    {
     "name": "stdout",
     "output_type": "stream",
     "text": [
      "Successfully saved!\n"
     ]
    }
   ],
   "source": [
    "A = AlternatingGroup(5) \n",
    "table_A = OperationTable(A, operator.mul)\n",
    "ord_gr_A = A.cardinality()\n",
    "abelian_A = A.is_abelian()\n",
    "\n",
    "with open(f\"task1_group_A_5.txt\", \"w\") as t1_out:\n",
    "    t1_out.write(\"Група всіх парний підстановок на множині 5 - A_5 \\n \\n\")\n",
    "    t1_out.write(str(table_A) + \"\\n\")\n",
    "    t1_out.write(\"Порядок групи: \")\n",
    "    t1_out.write(str(ord_gr_A) + \"\\n\")\n",
    "    if abelian_A:\n",
    "        t1_out.write(\"Група абелева\")\n",
    "    else:\n",
    "        t1_out.write(\"Група не абелева\")\n",
    "print(\"Successfully saved!\")"
   ]
  },
  {
   "cell_type": "code",
   "execution_count": 5,
   "id": "d5a457a6",
   "metadata": {},
   "outputs": [
    {
     "name": "stdout",
     "output_type": "stream",
     "text": [
      "Група всіх невироджених матриць з визначником 1 порядку 2  над полем Z3* \n",
      "\n",
      "*  a b c d e f g h i j k l m n o p q r s t u v w x\n",
      " +------------------------------------------------\n",
      "a| p s v g j m a l u c o r b i x d n w f k q e h t\n",
      "b| r u x h k n b j t a m q c g w f o v e l p d i s\n",
      "c| q t w i l o c k s b n p a h v e m x d j r f g u\n",
      "d| g m j p v s d w n e t h f q k a u l b x i c r o\n",
      "e| i o l q w t e x m f u g d r j c s k a v h b p n\n",
      "f| h n k r x u f v o d s i e p l b t j c w g a q m\n",
      "g| a b c d e f g h i j k l m n o p q r s t u v w x\n",
      "h| b c a f d e h i g k l j n o m r p q u s t x v w\n",
      "i| c a b e f d i g h l j k o m n q r p t u s w x v\n",
      "j| u x r n h k j t b m q a g w c v f o p e l s d i\n",
      "k| t w q o i l k s c n p b h v a x e m r d j u f g\n",
      "l| s v p m g j l u a o r c i x b w d n q f k t e h\n",
      "m| l i o w t q m e x g f u j d r s k c v h a p n b\n",
      "n| j g m v s p n d w h e t k f q u l a x i b r o c\n",
      "o| k h n x u r o f v i d s l e p t j b w g c q m a\n",
      "p| d f e a c b p r q v x w s u t g i h m o n j l k\n",
      "q| e d f c b a q p r w v x t s u i h g o n m l k j\n",
      "r| f e d b a c r q p x w v u t s h g i n m o k j l\n",
      "s| w q t l o i s c k p b n v a h m x e j r d g u f\n",
      "t| x r u k n h t b j q a m w c g o v f l p e i s d\n",
      "u| v p s j m g u a l r c o x b i n w d k q f h t e\n",
      "v| n k h u r x v o f s i d p l e j b t g c w m a q\n",
      "w| m j g s p v w n d t h e q k f l a u i b x o c r\n",
      "x| o l i t q w x m e u g f r j d k c s h a v n b p\n",
      "\n",
      "Порядок групи: 24\n",
      "Група не абелева\n"
     ]
    }
   ],
   "source": [
    "print(\"Група всіх невироджених матриць з визначником 1 порядку 2  над полем Z3* \\n\")\n",
    "\n",
    "\n",
    "Z3 = GF(3)  \n",
    "SL2_Z3 = SL(2, Z3)\n",
    "table_SL = OperationTable(SL2_Z3, operator.mul)\n",
    "ord_gr_Sl = SL2_Z3.order()\n",
    "abelian_SL = SL2_Z3.is_abelian()\n",
    "\n",
    "print(table_SL)\n",
    "print(\"Порядок групи:\", ord_gr_Sl)\n",
    "if abelian_SL:\n",
    "    print(\"Група абелева\")\n",
    "else:\n",
    "    print(\"Група не абелева\")"
   ]
  },
  {
   "cell_type": "code",
   "execution_count": 6,
   "id": "32de5353",
   "metadata": {},
   "outputs": [
    {
     "name": "stdout",
     "output_type": "stream",
     "text": [
      "Групи не ізоморфні\n"
     ]
    }
   ],
   "source": [
    "D3 = DiCyclicGroup(3)\n",
    "SLI = SL(2, Integers(3))\n",
    "are_isomorphic = SLI.is_isomorphic(D3)\n",
    "\n",
    "if are_isomorphic:\n",
    "    print(\"Групи ізоморфні\")\n",
    "else:\n",
    "    print(\"Групи не ізоморфні\")"
   ]
  },
  {
   "cell_type": "markdown",
   "id": "101bece3-af83-4515-ba1a-e2d825b15a8d",
   "metadata": {},
   "source": [
    "## Завдання 2. \n",
    "\n",
    "__Знайдіть к-ть елементів кожного можливого порядку в групах $S_{100}$ та $A_{100}$.__\n",
    "\n",
    "-----\n",
    "___Зауваження___: вивід буде великий, збережіть його в окремий текстовий файл\n",
    "\n",
    "___Зауваження 2___: оцініть спершу к-ть елементів в групі, а потім ще раз подумайте чи варто тут писати повний перебір"
   ]
  },
  {
   "cell_type": "code",
   "execution_count": 7,
   "id": "c5866f5d-ba29-40b9-af38-a4e93198f68d",
   "metadata": {},
   "outputs": [
    {
     "name": "stdout",
     "output_type": "stream",
     "text": [
      "Successfully saved!\n"
     ]
    }
   ],
   "source": [
    "# Знайти скільки підстановок з групи Sn дадуть в розклад добуток незалежних циклів довжини n1, n2, ..., nk,\n",
    "# n1, n2, ...,nk - задані (integer partition)\n",
    "\n",
    "from math import factorial, gcd, lcm\n",
    "\n",
    "# def lcm(a, b):\n",
    "#     return a * b // gcd(a, b)\n",
    "\n",
    "def lcm_list(numbers):\n",
    "    result = 1\n",
    "    for i in numbers:\n",
    "        result = lcm(result, i)\n",
    "    return result\n",
    "\n",
    "# integer partition\n",
    "def partitions(n):\n",
    "    return Partitions(n).list()\n",
    "\n",
    "def count_permutations(partition):\n",
    "    fact = factorial(sum(partition))\n",
    "    counts = {}\n",
    "    for i in partition:\n",
    "        if i in counts:\n",
    "            counts[i] += 1\n",
    "        else:\n",
    "            counts[i] = 1\n",
    "    d = 1\n",
    "    for i, j in counts.items():\n",
    "        d *= (i^j) * factorial(j)\n",
    "    return fact // d\n",
    "\n",
    "def sn(n):\n",
    "    p = partitions(n)\n",
    "    dic = {}\n",
    "    for i in p:\n",
    "        с = count_permutations(i)\n",
    "        order = lcm_list(i)\n",
    "        if order in dic:\n",
    "            dic[order] += с\n",
    "        else:\n",
    "            dic[order] = с\n",
    "    return dic\n",
    "\n",
    "n = 70\n",
    "result = sn(n)\n",
    "\n",
    "with open(f\"Orders_Sn70.txt\", \"w\") as t2_out:\n",
    "    for i, j in result.items():\n",
    "        t2_out.write(f\"Order: {i}, amount: {j} \\n\")\n",
    "print(\"Successfully saved!\")"
   ]
  },
  {
   "cell_type": "code",
   "execution_count": 8,
   "id": "12ccbe2f",
   "metadata": {},
   "outputs": [
    {
     "name": "stdout",
     "output_type": "stream",
     "text": [
      "Successfully saved!\n"
     ]
    }
   ],
   "source": [
    "def lcm_list(numbers):\n",
    "    result = 1\n",
    "    for i in numbers:\n",
    "        result = lcm(result, i)\n",
    "    return result\n",
    "\n",
    "# integer partition\n",
    "def partitions(n):\n",
    "    return Partitions(n).list()\n",
    "\n",
    "def count_permutations(partition):\n",
    "    fact = factorial(sum(partition))\n",
    "    counts = {}\n",
    "    for i in partition:\n",
    "        if i in counts:\n",
    "            counts[i] += 1\n",
    "        else:\n",
    "            counts[i] = 1\n",
    "    d = 1\n",
    "    for i, j in counts.items():\n",
    "        d *= (i**j) * factorial(j)\n",
    "    return fact // d\n",
    "\n",
    "def sn(n):\n",
    "    p = partitions(n)\n",
    "    order_counts = {}\n",
    "    for i in p:\n",
    "        perm_count = count_permutations(i)\n",
    "        order = lcm_list(i)\n",
    "        if order not in order_counts:\n",
    "            order_counts[order] = 0\n",
    "        order_counts[order] += perm_count\n",
    "    return order_counts\n",
    "\n",
    "def even_permutation(partition):\n",
    "    s = 0\n",
    "    for i in partition:\n",
    "        if i % 2 == 0:\n",
    "            s += 1\n",
    "    if s % 2 == 0:\n",
    "        return True\n",
    "    else:\n",
    "        return False\n",
    "\n",
    "def an(n):\n",
    "    p = partitions(n)\n",
    "    dic = {}\n",
    "    for i in p:\n",
    "        if even_permutation(i):\n",
    "            c = count_permutations(i)\n",
    "            order = lcm_list(i)\n",
    "            if order in dic:  \n",
    "                dic[order] += c\n",
    "            else:\n",
    "                dic[order] = c\n",
    "    return dic\n",
    "\n",
    "n = 70\n",
    "result = an(n)\n",
    "\n",
    "with open(f\"Orders_An70.txt\", \"w\") as t2_out:\n",
    "    for i, j in result.items():\n",
    "        t2_out.write(f\"Order: {i}, amount: {j} \\n\")\n",
    "print(\"Successfully saved!\")"
   ]
  },
  {
   "cell_type": "markdown",
   "id": "aa1ddcec-2a21-46d5-80be-ff32c79d7de8",
   "metadata": {},
   "source": [
    "## Завдання 3. \n",
    "___Для заданих натуральних $n, k$ ($1 <= n \\le 1 000 000, 1 \\le k \\le n!$) визначте чи існує в групі $S_n$ елемент порядку $k$.___\n",
    "\n",
    "----------\n",
    "\n",
    "___Зауваження:___ зверніть увагу на межі, в яких задано $n, k$. "
   ]
  },
  {
   "cell_type": "code",
   "execution_count": 9,
   "id": "c03eca4c",
   "metadata": {},
   "outputs": [
    {
     "name": "stdout",
     "output_type": "stream",
     "text": [
      "Successfully saved!\n"
     ]
    }
   ],
   "source": [
    "def existence_of_order(n):\n",
    "    orders_found = {}\n",
    "    for i in Partitions(n):\n",
    "        order = lcm_list(i)\n",
    "        orders_found[order] = True\n",
    "    return orders_found\n",
    "\n",
    "def find_orders_in_Sn(n):\n",
    "    orders_found = existence_of_order(n)\n",
    "    with open(\"is_order_exist.txt\", \"w\") as t3_out:\n",
    "        for k in range(1, factorial(n) + 1):\n",
    "            if k in orders_found:\n",
    "                t3_out.write(f\"Order: {k} exists. \\n\")\n",
    "            else:\n",
    "                t3_out.write(f\"Order: {k} doesn't exist. \\n\")\n",
    "\n",
    "n = 9\n",
    "find_orders_in_Sn(n)\n",
    "print(\"Successfully saved!\")"
   ]
  }
 ],
 "metadata": {
  "kernelspec": {
   "display_name": "SageMath 10.0",
   "language": "sage",
   "name": "sagemath"
  },
  "language_info": {
   "codemirror_mode": {
    "name": "ipython",
    "version": 3
   },
   "file_extension": ".py",
   "mimetype": "text/x-python",
   "name": "python",
   "nbconvert_exporter": "python",
   "pygments_lexer": "ipython3",
   "version": "3.11.9"
  }
 },
 "nbformat": 4,
 "nbformat_minor": 5
}
