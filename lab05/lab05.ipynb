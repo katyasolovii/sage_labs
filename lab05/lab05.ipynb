{
 "cells": [
  {
   "cell_type": "markdown",
   "id": "853ce637-8316-439f-8787-5f6f25de4267",
   "metadata": {},
   "source": [
    "# Лабораторна робота 5 \n",
    "\n",
    "## Завдання 1\n",
    "\n",
    "Розгляньте групу матриць за множенням  \n",
    "\n",
    "$$G = \\left\\langle \\left(\\begin{array}{rrr}\n",
    "1 & 0 & 1 \\\\\n",
    "0 & 1 & 0 \\\\\n",
    "0 & 0 & 1\n",
    "\\end{array}\\right),  \\left(\\begin{array}{rrr}\n",
    "1 & 0 & 0 \\\\\n",
    "0 & 1 & 1 \\\\\n",
    "0 & 0 & 1\n",
    "\\end{array}\\right)\\right\\rangle$$\n",
    "\n",
    "Дайте відповідь на наступні питання: \n",
    "\n",
    "1. _Чи є група G скінченною?_\n",
    "2. _Чи є група G комутативною?_\n",
    "3. _Який вигляд мають елементи групи G?_\n",
    "4. _Які порядки мають елементи групи G?_ \n",
    "5. _Чому ізоморфна група G?_\n",
    "\n",
    "\n",
    "__Відповіді__: \n",
    "1. нескінченна група, порядок елементів є нескінченним\n",
    "2. група комутативна \n",
    "3. $$G = \\left\\{ \\left(\\begin{array}{rrr}\n",
    "1 & 0 & a \\\\\n",
    "0 & 1 & b \\\\\n",
    "0 & 0 & 1\n",
    "\\end{array}\\right),  {a, b} \\in \\mathbb{Z} \\right\\}$$\n",
    "4. нескінченний \n",
    "5. $$G \\simeq \\mathbb{Z}^2 $$\n",
    "\n",
    "$$ \\phi: G \\rightarrow \\mathbb{Z}^2 $$\n",
    "\n",
    "$$ \\phi \\begin{pmatrix}\n",
    "1 & 0 & a \\\\\n",
    "0 & 1 & b \\\\\n",
    "0 & 0 & 1\n",
    "\\end{pmatrix} =(a, b) $$"
   ]
  },
  {
   "cell_type": "code",
   "execution_count": 1,
   "id": "be9b2439-0658-4e0a-93c6-0850a2e200fe",
   "metadata": {},
   "outputs": [],
   "source": [
    "M1 = Matrix([[1, 0, 1],\n",
    "            [0, 1, 0],\n",
    "            [0, 0, 1]])\n",
    "M2 = Matrix([[1, 0, 0],\n",
    "            [0, 1, 1],\n",
    "            [0, 0, 1]])"
   ]
  },
  {
   "cell_type": "code",
   "execution_count": 2,
   "id": "e3ce1bb5",
   "metadata": {},
   "outputs": [
    {
     "name": "stdout",
     "output_type": "stream",
     "text": [
      "[1 0 2]\n",
      "[0 1 0]\n",
      "[0 0 1] \n",
      "\n",
      "[1 0 3]\n",
      "[0 1 0]\n",
      "[0 0 1] \n",
      "\n",
      "[  1   0 432]\n",
      "[  0   1   0]\n",
      "[  0   0   1] \n",
      "\n",
      "[  1   0 -32]\n",
      "[  0   1   0]\n",
      "[  0   0   1] \n",
      "\n",
      "[1 0 0]\n",
      "[0 1 2]\n",
      "[0 0 1] \n",
      "\n",
      "[1 0 0]\n",
      "[0 1 3]\n",
      "[0 0 1] \n",
      "\n",
      "[  1   0   0]\n",
      "[  0   1 432]\n",
      "[  0   0   1] \n",
      "\n",
      "[  1   0   0]\n",
      "[  0   1 -32]\n",
      "[  0   0   1] \n",
      "\n"
     ]
    }
   ],
   "source": [
    "print(M1^2, \"\\n\")\n",
    "print(M1^3, \"\\n\")\n",
    "print(M1^432, \"\\n\")\n",
    "print(M1^(-32), \"\\n\")\n",
    "print(M2^2, \"\\n\")\n",
    "print(M2^3, \"\\n\")\n",
    "print(M2^432, \"\\n\")\n",
    "print(M2^(-32), \"\\n\")"
   ]
  },
  {
   "cell_type": "code",
   "execution_count": 3,
   "id": "6835d14e",
   "metadata": {},
   "outputs": [
    {
     "name": "stdout",
     "output_type": "stream",
     "text": [
      "Група комутативна\n"
     ]
    }
   ],
   "source": [
    "if M1*M2 == M2*M1:\n",
    "    print(\"Група комутативна\")\n",
    "else:\n",
    "    print(\"Група некомутативна\")"
   ]
  },
  {
   "cell_type": "code",
   "execution_count": 4,
   "id": "a20d788c",
   "metadata": {},
   "outputs": [
    {
     "name": "stdout",
     "output_type": "stream",
     "text": [
      "[ 1  0 43]\n",
      "[ 0  1 43]\n",
      "[ 0  0  1] \n",
      "\n",
      "[  1   0 -45]\n",
      "[  0   1 -45]\n",
      "[  0   0   1] \n",
      "\n",
      "[1 0 5]\n",
      "[0 1 5]\n",
      "[0 0 1] \n",
      "\n",
      "[  1   0 345]\n",
      "[  0   1 345]\n",
      "[  0   0   1] \n",
      "\n"
     ]
    }
   ],
   "source": [
    "print((M1*M2)^43, \"\\n\")\n",
    "print((M2*M1)^-45, \"\\n\")\n",
    "print((M2*M1)^5, \"\\n\")\n",
    "print((M2*M1)^345, \"\\n\")"
   ]
  },
  {
   "cell_type": "markdown",
   "id": "4b51fa8b-4aaf-4b15-9478-a546c500583d",
   "metadata": {},
   "source": [
    "## Завдання 2 \n",
    "\n",
    "Розгляньте групу матриць за множенням: \n",
    "\n",
    "$$G = \\left\\langle \\left(\\begin{array}{rr}\n",
    "1 & -1 \\\\\n",
    "-1 & 2\n",
    "\\end{array}\\right), \\left(\\begin{array}{rr}\n",
    "3 & 2 \\\\\n",
    "2 & 1\n",
    "\\end{array}\\right) \\right\\rangle$$\n",
    "\n",
    "Дайте відповідь на наступні питання: \n",
    "\n",
    "1. _Чи є група G скінченною?_\n",
    "2. _Чи є група G комутативною?_\n",
    "3. _Який вигляд мають елементи групи G?_\n",
    "4. _Які порядки мають елементи групи G?_ \n",
    "5. _Чому ізоморфна група G?_\n",
    "\n",
    "\n",
    "__Відповіді__: \n",
    "1. нескінченна група, порядок елементів є нескінченним\n",
    "2. комутативна \n",
    "3. $$G = \\left\\{ \\left(\\begin{array}{rrr}\n",
    "1 & -1 \\\\\n",
    "-1 & 2\n",
    "\\end{array}\\right)^{a} \\cdot \\left(\\begin{array}{rrr}\n",
    "3 & 2 \\\\\n",
    "2 & 1\n",
    "\\end{array}\\right)^{b} ,  {a, b} \\in \\mathbb{Z} \\right\\}$$\n",
    "\n",
    "$$G = \\left\\{ \\left(\\begin{array}{rrr}\n",
    "1 & -1 \\\\\n",
    "-1 & 2\n",
    "\\end{array}\\right)^{3i} \\cdot \\left(\\begin{array}{rrr}\n",
    "3 & 2 \\\\\n",
    "2 & 1\n",
    "\\end{array}\\right)^{2j} ,  {i, j} \\in \\mathbb{Z} \\right\\}$$\n",
    "4. нескінченний \n",
    "\n",
    "5. $$G \\simeq \\mathbb{Z}^2  (?)  $$ "
   ]
  },
  {
   "cell_type": "code",
   "execution_count": 5,
   "id": "90507d96-1506-4ac1-af8b-e7ad3840755a",
   "metadata": {},
   "outputs": [],
   "source": [
    "m1 = Matrix([[1, -1],\n",
    "            [-1, 2]])\n",
    "m2 = Matrix([[3, 2],\n",
    "            [2, 1]])"
   ]
  },
  {
   "cell_type": "code",
   "execution_count": 6,
   "id": "aae2e531",
   "metadata": {},
   "outputs": [
    {
     "name": "stdout",
     "output_type": "stream",
     "text": [
      "[34 21]\n",
      "[21 13]\n",
      "[ 5 -8]\n",
      "[-8 13]\n",
      "[ 2 -3]\n",
      "[-3  5]\n",
      "[ 34 -55]\n",
      "[-55  89]\n",
      "[13  8]\n",
      "[ 8  5]\n",
      "[-21  34]\n",
      "[ 34 -55]\n",
      "[-377  610]\n",
      "[ 610 -987]\n"
     ]
    }
   ],
   "source": [
    "print(m1^-4)\n",
    "print(m1^3)\n",
    "print(m1^2)\n",
    "print(m1^5)\n",
    "print(m2^2)\n",
    "print(m2^-3)\n",
    "print(m2^-5)"
   ]
  },
  {
   "cell_type": "code",
   "execution_count": 7,
   "id": "68b38b3d",
   "metadata": {},
   "outputs": [
    {
     "name": "stdout",
     "output_type": "stream",
     "text": [
      "Група комутативна\n"
     ]
    }
   ],
   "source": [
    "if m1*m2 == m2*m1:\n",
    "    print(\"Група комутативна\")\n",
    "else:\n",
    "    print(\"Група некомутативна\")"
   ]
  },
  {
   "cell_type": "code",
   "execution_count": 8,
   "id": "ed7ffec1",
   "metadata": {},
   "outputs": [
    {
     "name": "stdout",
     "output_type": "stream",
     "text": [
      "[13  8]\n",
      "[ 8  5] \n",
      "\n",
      "[13  8]\n",
      "[ 8  5] \n",
      "\n",
      "[ 5 -8]\n",
      "[-8 13] \n",
      "\n",
      "[ 5 -8]\n",
      "[-8 13] \n",
      "\n",
      "[  89 -144]\n",
      "[-144  233] \n",
      "\n",
      "[  89 -144]\n",
      "[-144  233] \n",
      "\n",
      "[233 144]\n",
      "[144  89] \n",
      "\n",
      "[233 144]\n",
      "[144  89] \n",
      "\n",
      "[4181 2584]\n",
      "[2584 1597] \n",
      "\n",
      "[4181 2584]\n",
      "[2584 1597] \n",
      "\n",
      "[ 1597 -2584]\n",
      "[-2584  4181] \n",
      "\n",
      "[ 1597 -2584]\n",
      "[-2584  4181] \n",
      "\n",
      "[75025 46368]\n",
      "[46368 28657] \n",
      "\n",
      "[75025 46368]\n",
      "[46368 28657] \n",
      "\n",
      "[ 28657 -46368]\n",
      "[-46368  75025] \n",
      "\n",
      "[ 28657 -46368]\n",
      "[-46368  75025] \n",
      "\n",
      "[1346269  832040]\n",
      "[ 832040  514229] \n",
      "\n",
      "[1346269  832040]\n",
      "[ 832040  514229] \n",
      "\n",
      "[ 514229 -832040]\n",
      "[-832040 1346269] \n",
      "\n",
      "[ 514229 -832040]\n",
      "[-832040 1346269] \n",
      "\n",
      "[24157817 14930352]\n",
      "[14930352  9227465] \n",
      "\n",
      "[24157817 14930352]\n",
      "[14930352  9227465] \n",
      "\n",
      "[  9227465 -14930352]\n",
      "[-14930352  24157817] \n",
      "\n",
      "[  9227465 -14930352]\n",
      "[-14930352  24157817] \n",
      "\n"
     ]
    }
   ],
   "source": [
    "print(m1^-3, \"\\n\")  \n",
    "print(m2^2, \"\\n\")  \n",
    "\n",
    "print(m1^3, \"\\n\")   \n",
    "print(m2^-2, \"\\n\")  \n",
    "\n",
    "print(m1^6, \"\\n\")  \n",
    "print(m2^-4, \"\\n\")  \n",
    "\n",
    "print(m1^-6, \"\\n\")  \n",
    "print(m2^4, \"\\n\")  \n",
    "\n",
    "print(m1^-9, \"\\n\")\n",
    "print(m2^6, \"\\n\")  \n",
    "\n",
    "print(m1^9, \"\\n\")\n",
    "print(m2^-6, \"\\n\")  \n",
    "\n",
    "print(m1^-12, \"\\n\")\n",
    "print(m2^8, \"\\n\")  \n",
    "\n",
    "print(m1^12, \"\\n\")\n",
    "print(m2^-8, \"\\n\") \n",
    "\n",
    "print(m1^-15, \"\\n\")\n",
    "print(m2^10, \"\\n\")  \n",
    "\n",
    "print(m1^15, \"\\n\")\n",
    "print(m2^-10, \"\\n\") \n",
    "\n",
    "print(m1^-18, \"\\n\")\n",
    "print(m2^12, \"\\n\")  \n",
    "\n",
    "print(m1^18, \"\\n\")\n",
    "print(m2^-12, \"\\n\") \n",
    "# однакові (m1 -> +- 3k, m2 -> +-2l)"
   ]
  },
  {
   "cell_type": "code",
   "execution_count": 9,
   "id": "c8a01944",
   "metadata": {},
   "outputs": [
    {
     "name": "stdout",
     "output_type": "stream",
     "text": [
      "[1 1]\n",
      "[1 0] \n",
      "\n",
      "[2 1]\n",
      "[1 1] \n",
      "\n",
      "[3 2]\n",
      "[2 1] \n",
      "\n",
      "[5 3]\n",
      "[3 2] \n",
      "\n",
      "[8 5]\n",
      "[5 3] \n",
      "\n",
      "[13  8]\n",
      "[ 8  5] \n",
      "\n",
      "[ 1 -1]\n",
      "[-1  2] \n",
      "\n",
      "[-1  2]\n",
      "[ 2 -3] \n",
      "\n",
      "[ 2 -3]\n",
      "[-3  5] \n",
      "\n",
      "[-3  5]\n",
      "[ 5 -8] \n",
      "\n",
      "[ 5 -8]\n",
      "[-8 13] \n",
      "\n"
     ]
    }
   ],
   "source": [
    "print(m1 * m2, \"\\n\")\n",
    "print((m1*m2)^2, \"\\n\")\n",
    "print((m1*m2)^3, \"\\n\")\n",
    "print((m1*m2)^4, \"\\n\")\n",
    "print((m1*m2)^5, \"\\n\")\n",
    "print((m1*m2)^6, \"\\n\")\n",
    "print((m1*m2)^-2, \"\\n\")\n",
    "print((m1*m2)^-3, \"\\n\")\n",
    "print((m1*m2)^-4, \"\\n\")\n",
    "print((m1*m2)^-5, \"\\n\")\n",
    "print((m1*m2)^-6, \"\\n\")"
   ]
  },
  {
   "cell_type": "code",
   "execution_count": 10,
   "id": "12115602",
   "metadata": {},
   "outputs": [
    {
     "name": "stdout",
     "output_type": "stream",
     "text": [
      "[3 2]\n",
      "[2 1] \n",
      "\n",
      "[13  8]\n",
      "[ 8  5] \n",
      "\n",
      "[55 34]\n",
      "[34 21] \n",
      "\n",
      "[233 144]\n",
      "[144  89] \n",
      "\n",
      "[-1  2]\n",
      "[ 2 -3] \n",
      "\n",
      "[ 5 -8]\n",
      "[-8 13] \n",
      "\n",
      "[-21  34]\n",
      "[ 34 -55] \n",
      "\n",
      "[  89 -144]\n",
      "[-144  233] \n",
      "\n"
     ]
    }
   ],
   "source": [
    "print(m2^1, \"\\n\")\n",
    "print(m2^2, \"\\n\")\n",
    "print(m2^3, \"\\n\")\n",
    "print(m2^4, \"\\n\")\n",
    "print(m2^-1, \"\\n\")\n",
    "print(m2^-2, \"\\n\")\n",
    "print(m2^-3, \"\\n\")\n",
    "print(m2^-4, \"\\n\")"
   ]
  },
  {
   "cell_type": "markdown",
   "id": "19188467-cc30-42b5-a48c-1329337ff2c0",
   "metadata": {},
   "source": [
    "## Завдання 3\n",
    "\n",
    "Розгляньте групу матриць за множенням: \n",
    "\n",
    "$$K = \\left\\langle \\left(\\begin{array}{rrr}\n",
    "-1 & 0 & 0 \\\\\n",
    "0 & 1 & \\frac{1}{2} \\\\\n",
    "0 & 0 & 1\n",
    "\\end{array}\\right), \n",
    "\\left(\\begin{array}{rrr}\n",
    "1 & 0 & 1 \\\\\n",
    "0 & 1 & 0 \\\\\n",
    "0 & 0 & 1\n",
    "\\end{array}\\right) \\right\\rangle$$\n",
    "\n",
    "Дайте відповідь на наступні питання: \n",
    "\n",
    "1. _Чи є група K скінченною?_\n",
    "2. _Чи є група K комутативною?_\n",
    "3. _Який вигляд мають елементи групи K?_\n",
    "4. _Які порядки мають елементи групи K?_ \n",
    "\n",
    "__Відповіді__: \n",
    "1. нескінченна, порядок елементів є нескінченним\n",
    "2. некомутативна \n",
    "3. $$K = \\left\\{ \\left(\\begin{array}{rrr}\n",
    "(-1)^{a} & 0 & 1 \\\\\n",
    "0 & 1 & \\frac{1}{2} \\cdot a \\\\\n",
    "0 & 0 & 1\n",
    "\\end{array}\\right) \\cdot \\left(\\begin{array}{rrr}\n",
    "1 & 0 & b \\\\\n",
    "0 & 1 & 0 \\\\\n",
    "0 & 0 & 1\n",
    "\\end{array}\\right) ,  {a, b} \\in \\mathbb{Z} \\right\\}$$ \n",
    "$$K = \\left\\{ \\left(\\begin{array}{rrr}\n",
    "(-1)^{a} & 0 & b \\\\\n",
    "0 & 1 & \\frac{1}{2} \\cdot a \\\\\n",
    "0 & 0 & 1\n",
    "\\end{array}\\right) ,  {a, b} \\in \\mathbb{Z} \\right\\}$$ \n",
    "4. нескінченний\n",
    "5. ...\n",
    "\n",
    "\n",
    "__Додаткова задача:__\n",
    "Опишіть підгрупи групи K з точністю до ізоморфізму. "
   ]
  },
  {
   "cell_type": "code",
   "execution_count": 11,
   "id": "e5f525af",
   "metadata": {},
   "outputs": [],
   "source": [
    "k1 = Matrix([[-1, 0, 0],\n",
    "            [0, 1, 1/2],\n",
    "            [0, 0, 1]])\n",
    "k2 = Matrix([[1, 0, 1],\n",
    "            [0, 1, 0],\n",
    "            [0, 0, 1]])"
   ]
  },
  {
   "cell_type": "code",
   "execution_count": 12,
   "id": "203d13e6",
   "metadata": {},
   "outputs": [
    {
     "name": "stdout",
     "output_type": "stream",
     "text": [
      "Група некомутативна\n"
     ]
    }
   ],
   "source": [
    "if k1*k2 == k2*k1:\n",
    "    print(\"Група комутативна\")\n",
    "else:\n",
    "    print(\"Група некомутативна\")"
   ]
  },
  {
   "cell_type": "code",
   "execution_count": 13,
   "id": "5b6a44cd",
   "metadata": {},
   "outputs": [
    {
     "name": "stdout",
     "output_type": "stream",
     "text": [
      "[1 0 2]\n",
      "[0 1 0]\n",
      "[0 0 1] \n",
      "\n",
      "[  1   0 -12]\n",
      "[  0   1   0]\n",
      "[  0   0   1] \n",
      "\n",
      "[  1   0 756]\n",
      "[  0   1   0]\n",
      "[  0   0   1] \n",
      "\n"
     ]
    }
   ],
   "source": [
    "print(k2^2, \"\\n\")\n",
    "print(k2^-12, \"\\n\")\n",
    "print(k2^756, \"\\n\")"
   ]
  },
  {
   "cell_type": "code",
   "execution_count": 14,
   "id": "be3c8c48",
   "metadata": {},
   "outputs": [
    {
     "name": "stdout",
     "output_type": "stream",
     "text": [
      "[1 0 0]\n",
      "[0 1 1]\n",
      "[0 0 1] \n",
      "\n",
      "[ -1   0   0]\n",
      "[  0   1 5/2]\n",
      "[  0   0   1] \n",
      "\n",
      "[  -1    0    0]\n",
      "[   0    1 -1/2]\n",
      "[   0    0    1] \n",
      "\n",
      "[  -1    0    0]\n",
      "[   0    1 43/2]\n",
      "[   0    0    1] \n",
      "\n",
      "[   -1     0     0]\n",
      "[    0     1 -65/2]\n",
      "[    0     0     1] \n",
      "\n"
     ]
    }
   ],
   "source": [
    "print(k1^2, \"\\n\")\n",
    "print(k1^5, \"\\n\")\n",
    "print(k1^-1, \"\\n\")\n",
    "print(k1^43, \"\\n\")\n",
    "print(k1^-65, \"\\n\")"
   ]
  },
  {
   "cell_type": "markdown",
   "id": "7c69da4f",
   "metadata": {},
   "source": [
    "__Додаткова задача:__\n",
    "Опишіть підгрупи групи K з точністю до ізоморфізму. \n",
    "\n",
    "$$H1 = \\left\\{ \\left(\\begin{array}{rrr}\n",
    "0 & 0 & b \\\\\n",
    "0 & 1 & 0 \\\\\n",
    "0 & 0 & 1\n",
    "\\end{array}\\right) ,  {b} \\in \\mathbb{Z} \\right\\}$$ \n",
    "\n",
    "$$H2 = \\left\\{ \\left(\\begin{array}{rrr}\n",
    "1 & 0 & 0 \\\\\n",
    "0 & 1 & \\frac{1}{2} \\cdot a \\\\\n",
    "0 & 0 & 1\n",
    "\\end{array}\\right) ,  {a} \\in \\mathbb{Z} \\right\\}$$ \n",
    "\n",
    "$$H3 = \\left\\{ \\left(\\begin{array}{rrr}\n",
    "-1 & 0 & 0 \\\\\n",
    "0 & 1 & \\frac{1}{2} \\cdot a \\\\\n",
    "0 & 0 & 1\n",
    "\\end{array}\\right) ,  {a} \\in \\mathbb{Z} \\right\\}$$ \n",
    "\n",
    "$$H4 = \\left\\{ \\left(\\begin{array}{rrr}\n",
    "(-1)^{a} & 0 & b \\\\\n",
    "0 & 1 & \\frac{1}{2} \\cdot a \\\\\n",
    "0 & 0 & 1\n",
    "\\end{array}\\right) ,  {a, b} \\in \\mathbb{Z} \\right\\}$$ \n",
    "???"
   ]
  }
 ],
 "metadata": {
  "kernelspec": {
   "display_name": "SageMath 10.0",
   "language": "sage",
   "name": "sagemath"
  },
  "language_info": {
   "codemirror_mode": {
    "name": "ipython",
    "version": 3
   },
   "file_extension": ".py",
   "mimetype": "text/x-python",
   "name": "python",
   "nbconvert_exporter": "python",
   "pygments_lexer": "ipython3",
   "version": "3.11.9"
  }
 },
 "nbformat": 4,
 "nbformat_minor": 5
}
